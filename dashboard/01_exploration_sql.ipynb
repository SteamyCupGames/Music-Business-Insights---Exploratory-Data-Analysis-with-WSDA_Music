{
 "cells": [
  {
   "cell_type": "code",
   "execution_count": 5,
   "id": "759c2e42",
   "metadata": {},
   "outputs": [
    {
     "data": {
      "text/plain": [
       "'\\nIn this notebook, we explore the structure of the WSDA_Music SQLite database. \\nThis is a foundational step to understand the data model and prepare for more advanced analysis in the next stages.\\nWe will:\\n- List the available tables.\\n- Inspect the structure and columns of each table.\\n- Count the number of rows per table.\\n- Identify key relationships between tables.\\n- Run an initial JOIN to validate data consistency.\\n'"
      ]
     },
     "execution_count": 5,
     "metadata": {},
     "output_type": "execute_result"
    }
   ],
   "source": [
    "### 01_exploration_sql.ipynb – Database Structure Exploration (WSDA_Music)\n",
    "\n",
    "# 🧠 Introduction\n",
    "\"\"\"\n",
    "In this notebook, we explore the structure of the WSDA_Music SQLite database. \n",
    "This is a foundational step to understand the data model and prepare for more advanced analysis in the next stages.\n",
    "We will:\n",
    "- List the available tables.\n",
    "- Inspect the structure and columns of each table.\n",
    "- Count the number of rows per table.\n",
    "- Identify key relationships between tables.\n",
    "- Run an initial JOIN to validate data consistency.\n",
    "\"\"\""
   ]
  },
  {
   "cell_type": "code",
   "execution_count": 6,
   "id": "9c02e056",
   "metadata": {},
   "outputs": [],
   "source": [
    "# ✅ Setup\n",
    "\n",
    "import sqlite3\n",
    "import pandas as pd\n",
    "from pathlib import Path\n",
    "\n",
    "\n",
    "# Define path to the database\n",
    "\n",
    "db_path = Path(\"../data/WSDA_Music.db\")\n",
    "conn = sqlite3.connect(db_path)"
   ]
  }
 ],
 "metadata": {
  "kernelspec": {
   "display_name": "machinelearning",
   "language": "python",
   "name": "python3"
  },
  "language_info": {
   "codemirror_mode": {
    "name": "ipython",
    "version": 3
   },
   "file_extension": ".py",
   "mimetype": "text/x-python",
   "name": "python",
   "nbconvert_exporter": "python",
   "pygments_lexer": "ipython3",
   "version": "3.13.1"
  }
 },
 "nbformat": 4,
 "nbformat_minor": 5
}
